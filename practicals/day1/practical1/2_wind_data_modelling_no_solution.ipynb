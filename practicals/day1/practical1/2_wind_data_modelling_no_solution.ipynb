{
  "cells": [
    {
      "cell_type": "markdown",
      "metadata": {
        "id": "view-in-github",
        "colab_type": "text"
      },
      "source": [
        "<a href=\"https://colab.research.google.com/github/QuinnGrace/StatML4PopHealth/blob/changes/practicals/day1/practical1/2_wind_data_modelling_no_solution.ipynb\" target=\"_parent\"><img src=\"https://colab.research.google.com/assets/colab-badge.svg\" alt=\"Open In Colab\"/></a>"
      ]
    },
    {
      "cell_type": "markdown",
      "metadata": {
        "id": "CQzwMCE3hyta"
      },
      "source": [
        "<center>\n",
        "<img src=\"https://raw.githubusercontent.com/MLGlobalHealth/StatML4PopHealth/main/practicals/resources/logos/imperial.png\" width=\"250\" vspace=\"8\"/>\n",
        "<img src=\"https://raw.githubusercontent.com/MLGlobalHealth/StatML4PopHealth/main/practicals/resources/logos/mlgh.png\" width=\"220\" hspace=\"50\" vspace=\"5\"/>\n",
        "<img src=\"https://raw.githubusercontent.com/MLGlobalHealth/StatML4PopHealth/main/practicals/resources/logos/ammi.png\" width=\"190\"/>\n",
        "\n",
        "<font size=\"6\">Modern Statistics and Machine Learning<br> for Population Health in Africa </font>\n",
        "\n",
        "<font size=\"4\">24th - 28th March 2025</font>\n",
        "\n",
        "</center>"
      ]
    },
    {
      "cell_type": "markdown",
      "metadata": {
        "id": "NmnPYY2MTOhq"
      },
      "source": [
        "# Computing lab: Bayesian normal fixed effects regression models\n",
        "## Tristan Naidoo and Sahoko Ishida\n",
        "\n",
        "In this notebook, we will fit a Bayesian normal linear regression model to the windspeed data processed in the notebook `wind_data_cleaning.ipynb`, using the probabilistic computing language Stan."
      ]
    },
    {
      "cell_type": "markdown",
      "metadata": {
        "id": "-C6TIbeQil70"
      },
      "source": [
        "### 1. Installing cmdstanpy and loading necessary packages"
      ]
    },
    {
      "cell_type": "code",
      "execution_count": 2,
      "metadata": {
        "id": "JMyMxvo6niG6",
        "colab": {
          "base_uri": "https://localhost:8080/"
        },
        "outputId": "e185d881-6f82-40e3-eed8-69404a6425a5"
      },
      "outputs": [
        {
          "metadata": {
            "tags": null
          },
          "name": "stdout",
          "output_type": "stream",
          "text": [
            "  % Total    % Received % Xferd  Average Speed   Time    Time     Time  Current\n",
            "                                 Dload  Upload   Total   Spent    Left  Speed\n",
            "100  2066  100  2066    0     0   8873      0 --:--:-- --:--:-- --:--:--  8905\n",
            "Installing cmdstanpy==1.2.5\n",
            "Downloading colab-cmdstan-2.36.0.tar.gz\n",
            "Unpacking colab-cmdstan-2.36.0.tar.gz\n",
            "Installing required libtbb2 Linux package\n",
            "Setting cmdstan path\n",
            "CmdStan successfully installed!\n"
          ]
        }
      ],
      "source": [
        "!curl -O \"https://raw.githubusercontent.com/MLGlobalHealth/StatML4PopHealth/main/practicals/resources/scripts/utilities.py\"\n",
        "\n",
        "from utilities import custom_install_cmdstan, test_cmdstan_installation\n",
        "\n",
        "custom_install_cmdstan()"
      ]
    },
    {
      "cell_type": "code",
      "execution_count": 3,
      "metadata": {
        "id": "ow294tmWY8Aa",
        "colab": {
          "base_uri": "https://localhost:8080/",
          "height": 1000,
          "referenced_widgets": [
            "7672e2c1d0964595a5b64eb96d6db7cb",
            "ff2db960db0e425db00f3a80cfbfcf77",
            "afb3b988099c4fb8971bd2027c57905b",
            "7c9e711c810e4df6b15a1391328cea8b"
          ]
        },
        "outputId": "958a2e7a-aad7-481d-c85e-5ab07758322c"
      },
      "outputs": [
        {
          "metadata": {
            "tags": null
          },
          "name": "stderr",
          "output_type": "stream",
          "text": [
            "DEBUG:cmdstanpy:found newer exe file, not recompiling\n",
            "DEBUG:cmdstanpy:cmd: /content/cmdstan-2.36.0/examples/bernoulli/bernoulli info\n",
            "cwd: None\n",
            "06:56:44 - cmdstanpy - INFO - CmdStan start processing\n",
            "INFO:cmdstanpy:CmdStan start processing\n"
          ]
        },
        {
          "metadata": {
            "tags": null
          },
          "name": "stdout",
          "output_type": "stream",
          "text": [
            "data {\n",
            "  int<lower=0> N;\n",
            "  array[N] int<lower=0, upper=1> y;\n",
            "}\n",
            "parameters {\n",
            "  real<lower=0, upper=1> theta;\n",
            "}\n",
            "model {\n",
            "  theta ~ beta(1, 1); // uniform prior on interval 0,1\n",
            "  y ~ bernoulli(theta);\n",
            "}\n",
            "{\n",
            "    \"N\" : 10,\n",
            "    \"y\" : [0,1,0,0,0,0,0,0,0,1]\n",
            "}\n"
          ]
        },
        {
          "data": {
            "application/vnd.jupyter.widget-view+json": {
              "model_id": "7672e2c1d0964595a5b64eb96d6db7cb",
              "version_major": 2,
              "version_minor": 0
            },
            "text/plain": [
              "chain 1 |          | 00:00 Status"
            ]
          },
          "metadata": {},
          "output_type": "display_data"
        },
        {
          "data": {
            "application/vnd.jupyter.widget-view+json": {
              "model_id": "ff2db960db0e425db00f3a80cfbfcf77",
              "version_major": 2,
              "version_minor": 0
            },
            "text/plain": [
              "chain 2 |          | 00:00 Status"
            ]
          },
          "metadata": {},
          "output_type": "display_data"
        },
        {
          "data": {
            "application/vnd.jupyter.widget-view+json": {
              "model_id": "afb3b988099c4fb8971bd2027c57905b",
              "version_major": 2,
              "version_minor": 0
            },
            "text/plain": [
              "chain 3 |          | 00:00 Status"
            ]
          },
          "metadata": {},
          "output_type": "display_data"
        },
        {
          "data": {
            "application/vnd.jupyter.widget-view+json": {
              "model_id": "7c9e711c810e4df6b15a1391328cea8b",
              "version_major": 2,
              "version_minor": 0
            },
            "text/plain": [
              "chain 4 |          | 00:00 Status"
            ]
          },
          "metadata": {},
          "output_type": "display_data"
        },
        {
          "metadata": {
            "tags": null
          },
          "name": "stderr",
          "output_type": "stream",
          "text": [
            "DEBUG:cmdstanpy:idx 0\n",
            "DEBUG:cmdstanpy:running CmdStan, num_threads: 1\n",
            "DEBUG:cmdstanpy:CmdStan args: ['/content/cmdstan-2.36.0/examples/bernoulli/bernoulli', 'id=1', 'random', 'seed=123', 'data', 'file=cmdstan-2.36.0/examples/bernoulli/bernoulli.data.json', 'output', 'file=/tmp/tmp4rktiy3w/bernoulli4t01p1st/bernoulli-20250325065644_1.csv', 'method=sample', 'algorithm=hmc', 'adapt', 'engaged=1']\n",
            "DEBUG:cmdstanpy:idx 1\n",
            "DEBUG:cmdstanpy:running CmdStan, num_threads: 1\n",
            "DEBUG:cmdstanpy:CmdStan args: ['/content/cmdstan-2.36.0/examples/bernoulli/bernoulli', 'id=2', 'random', 'seed=123', 'data', 'file=cmdstan-2.36.0/examples/bernoulli/bernoulli.data.json', 'output', 'file=/tmp/tmp4rktiy3w/bernoulli4t01p1st/bernoulli-20250325065644_2.csv', 'method=sample', 'algorithm=hmc', 'adapt', 'engaged=1']\n",
            "DEBUG:cmdstanpy:idx 2\n",
            "DEBUG:cmdstanpy:running CmdStan, num_threads: 1\n",
            "DEBUG:cmdstanpy:CmdStan args: ['/content/cmdstan-2.36.0/examples/bernoulli/bernoulli', 'id=3', 'random', 'seed=123', 'data', 'file=cmdstan-2.36.0/examples/bernoulli/bernoulli.data.json', 'output', 'file=/tmp/tmp4rktiy3w/bernoulli4t01p1st/bernoulli-20250325065644_3.csv', 'method=sample', 'algorithm=hmc', 'adapt', 'engaged=1']\n",
            "DEBUG:cmdstanpy:idx 3\n",
            "DEBUG:cmdstanpy:running CmdStan, num_threads: 1\n",
            "DEBUG:cmdstanpy:CmdStan args: ['/content/cmdstan-2.36.0/examples/bernoulli/bernoulli', 'id=4', 'random', 'seed=123', 'data', 'file=cmdstan-2.36.0/examples/bernoulli/bernoulli.data.json', 'output', 'file=/tmp/tmp4rktiy3w/bernoulli4t01p1st/bernoulli-20250325065644_4.csv', 'method=sample', 'algorithm=hmc', 'adapt', 'engaged=1']\n"
          ]
        },
        {
          "metadata": {
            "tags": null
          },
          "name": "stdout",
          "output_type": "stream",
          "text": [
            "                                                                                                                                                                                                                                                                                                                                                                                                                "
          ]
        },
        {
          "metadata": {
            "tags": null
          },
          "name": "stderr",
          "output_type": "stream",
          "text": [
            "06:56:44 - cmdstanpy - INFO - CmdStan done processing.\n",
            "INFO:cmdstanpy:CmdStan done processing.\n",
            "DEBUG:cmdstanpy:runset\n",
            "RunSet: chains=4, chain_ids=[1, 2, 3, 4], num_processes=4\n",
            " cmd (chain 1):\n",
            "\t['/content/cmdstan-2.36.0/examples/bernoulli/bernoulli', 'id=1', 'random', 'seed=123', 'data', 'file=cmdstan-2.36.0/examples/bernoulli/bernoulli.data.json', 'output', 'file=/tmp/tmp4rktiy3w/bernoulli4t01p1st/bernoulli-20250325065644_1.csv', 'method=sample', 'algorithm=hmc', 'adapt', 'engaged=1']\n",
            " retcodes=[0, 0, 0, 0]\n",
            " per-chain output files (showing chain 1 only):\n",
            " csv_file:\n",
            "\t/tmp/tmp4rktiy3w/bernoulli4t01p1st/bernoulli-20250325065644_1.csv\n",
            " console_msgs (if any):\n",
            "\t/tmp/tmp4rktiy3w/bernoulli4t01p1st/bernoulli-20250325065644_0-stdout.txt\n",
            "DEBUG:cmdstanpy:Chain 1 console:\n",
            "method = sample (Default)\n",
            "  sample\n",
            "    num_samples = 1000 (Default)\n",
            "    num_warmup = 1000 (Default)\n",
            "    save_warmup = false (Default)\n",
            "    thin = 1 (Default)\n",
            "    adapt\n",
            "      engaged = true (Default)\n",
            "      gamma = 0.05 (Default)\n",
            "      delta = 0.8 (Default)\n",
            "      kappa = 0.75 (Default)\n",
            "      t0 = 10 (Default)\n",
            "      init_buffer = 75 (Default)\n",
            "      term_buffer = 50 (Default)\n",
            "      window = 25 (Default)\n",
            "      save_metric = false (Default)\n",
            "    algorithm = hmc (Default)\n",
            "      hmc\n",
            "        engine = nuts (Default)\n",
            "          nuts\n",
            "            max_depth = 10 (Default)\n",
            "        metric = diag_e (Default)\n",
            "        metric_file =  (Default)\n",
            "        stepsize = 1 (Default)\n",
            "        stepsize_jitter = 0 (Default)\n",
            "    num_chains = 1 (Default)\n",
            "id = 1 (Default)\n",
            "data\n",
            "  file = cmdstan-2.36.0/examples/bernoulli/bernoulli.data.json\n",
            "init = 2 (Default)\n",
            "random\n",
            "  seed = 123\n",
            "output\n",
            "  file = /tmp/tmp4rktiy3w/bernoulli4t01p1st/bernoulli-20250325065644_1.csv\n",
            "  diagnostic_file =  (Default)\n",
            "  refresh = 100 (Default)\n",
            "  sig_figs = -1 (Default)\n",
            "  profile_file = profile.csv (Default)\n",
            "  save_cmdstan_config = false (Default)\n",
            "num_threads = 1 (Default)\n",
            "\n",
            "\n",
            "Gradient evaluation took 4e-06 seconds\n",
            "1000 transitions using 10 leapfrog steps per transition would take 0.04 seconds.\n",
            "Adjust your expectations accordingly!\n",
            "\n",
            "\n",
            "Iteration:    1 / 2000 [  0%]  (Warmup)\n",
            "Iteration:  100 / 2000 [  5%]  (Warmup)\n",
            "Iteration:  200 / 2000 [ 10%]  (Warmup)\n",
            "Iteration:  300 / 2000 [ 15%]  (Warmup)\n",
            "Iteration:  400 / 2000 [ 20%]  (Warmup)\n",
            "Iteration:  500 / 2000 [ 25%]  (Warmup)\n",
            "Iteration:  600 / 2000 [ 30%]  (Warmup)\n",
            "Iteration:  700 / 2000 [ 35%]  (Warmup)\n",
            "Iteration:  800 / 2000 [ 40%]  (Warmup)\n",
            "Iteration:  900 / 2000 [ 45%]  (Warmup)\n",
            "Iteration: 1000 / 2000 [ 50%]  (Warmup)\n",
            "Iteration: 1001 / 2000 [ 50%]  (Sampling)\n",
            "Iteration: 1100 / 2000 [ 55%]  (Sampling)\n",
            "Iteration: 1200 / 2000 [ 60%]  (Sampling)\n",
            "Iteration: 1300 / 2000 [ 65%]  (Sampling)\n",
            "Iteration: 1400 / 2000 [ 70%]  (Sampling)\n",
            "Iteration: 1500 / 2000 [ 75%]  (Sampling)\n",
            "Iteration: 1600 / 2000 [ 80%]  (Sampling)\n",
            "Iteration: 1700 / 2000 [ 85%]  (Sampling)\n",
            "Iteration: 1800 / 2000 [ 90%]  (Sampling)\n",
            "Iteration: 1900 / 2000 [ 95%]  (Sampling)\n",
            "Iteration: 2000 / 2000 [100%]  (Sampling)\n",
            "\n",
            " Elapsed Time: 0.015 seconds (Warm-up)\n",
            "               0.034 seconds (Sampling)\n",
            "               0.049 seconds (Total)\n",
            "\n",
            "\n",
            "DEBUG:cmdstanpy:cmd: cmdstan-2.36.0/bin/stansummary --percentiles= 5,50,95 --sig_figs=6 --csv_filename=/tmp/tmp4rktiy3w/stansummary-bernoulli-_hng8kof.csv /tmp/tmp4rktiy3w/bernoulli4t01p1st/bernoulli-20250325065644_1.csv /tmp/tmp4rktiy3w/bernoulli4t01p1st/bernoulli-20250325065644_2.csv /tmp/tmp4rktiy3w/bernoulli4t01p1st/bernoulli-20250325065644_3.csv /tmp/tmp4rktiy3w/bernoulli4t01p1st/bernoulli-20250325065644_4.csv\n",
            "cwd: None\n"
          ]
        },
        {
          "metadata": {
            "tags": null
          },
          "name": "stdout",
          "output_type": "stream",
          "text": [
            "\n"
          ]
        }
      ],
      "source": [
        "import logging\n",
        "logging.getLogger(\"cmdstanpy\").setLevel(logging.INFO)\n",
        "\n",
        "# Test the cmdstan installation\n",
        "test_cmdstan_installation()"
      ]
    },
    {
      "cell_type": "code",
      "execution_count": 4,
      "metadata": {
        "id": "S3VMKmc8I-VS"
      },
      "outputs": [],
      "source": [
        "import os\n",
        "import pickle\n",
        "from pathlib import Path\n",
        "\n",
        "import arviz as az\n",
        "from cmdstanpy import CmdStanModel\n",
        "import numpy as np\n",
        "import pandas as pd\n",
        "\n",
        "import logging\n",
        "logging.getLogger(\"cmdstanpy\").setLevel(logging.INFO)\n",
        "\n",
        "# Plotting\n",
        "import matplotlib as mpl\n",
        "import matplotlib.pyplot as plt\n",
        "import seaborn as sns\n",
        "\n",
        "\n",
        "# Aesthetics\n",
        "sns.set_theme(style=\"whitegrid\")\n",
        "font = {\"family\": \"sans-serif\",\n",
        "        \"weight\": \"normal\",\n",
        "\t\t\"size\": 10.5}\n",
        "mpl.rc('font', **font)"
      ]
    },
    {
      "cell_type": "code",
      "execution_count": 5,
      "metadata": {
        "id": "-fAZoePRVgbG",
        "colab": {
          "base_uri": "https://localhost:8080/"
        },
        "outputId": "22fb14b6-6c03-49c6-b204-6bffccce1762"
      },
      "outputs": [
        {
          "output_type": "stream",
          "name": "stdout",
          "text": [
            "  % Total    % Received % Xferd  Average Speed   Time    Time     Time  Current\n",
            "                                 Dload  Upload   Total   Spent    Left  Speed\n",
            "100 30.1M  100 30.1M    0     0  26.7M      0  0:00:01  0:00:01 --:--:-- 26.7M\n"
          ]
        }
      ],
      "source": [
        "# get the input data\n",
        "!curl -O \"https://raw.githubusercontent.com/MLGlobalHealth/StatML4PopHealth/main/practicals/day1/practical1/data/cleaned_wind_data_date_features.csv\""
      ]
    },
    {
      "cell_type": "code",
      "execution_count": 7,
      "metadata": {
        "id": "u1j3xEnuKx6s",
        "colab": {
          "base_uri": "https://localhost:8080/"
        },
        "outputId": "2141cc31-a1c9-43e4-cc50-8a4e1724cf86"
      },
      "outputs": [
        {
          "output_type": "stream",
          "name": "stdout",
          "text": [
            "Mounted at /content/drive\n"
          ]
        }
      ],
      "source": [
        "from google.colab import drive\n",
        "drive.mount('/content/drive')\n",
        "\n",
        "# Adjust this as required - this is where your output will be stored.\n",
        "output_dir = Path(*[\"drive\", \"MyDrive\", \"StatML4PopHealth\", \"practical1\"])\n",
        "output_dir.mkdir(parents=True, exist_ok=True)"
      ]
    },
    {
      "cell_type": "markdown",
      "metadata": {
        "id": "sTmTF2Fhijfd"
      },
      "source": [
        "### 2. Load and visualise data, study objectives\n",
        "\n",
        "Wind speed is influenced by factors like temperature and location. As temperatures rise during the day, wind speeds tend to increase, creating a typical diurnal pattern with higher winds in the afternoon and lower winds at night. Seasonal patterns also emerge as changes in weather and atmospheric conditions vary throughout the year.\n",
        "\n",
        "From the pre-processed dataset, we will take a look at hourly windspeed recordings at a selected site (`'Bothasig AQM Site'`), between 1st January, 2020 and 21st January 2020."
      ]
    },
    {
      "cell_type": "code",
      "execution_count": 8,
      "metadata": {
        "id": "O5TneNSrtgSu"
      },
      "outputs": [],
      "source": [
        "df = pd.read_csv(\"cleaned_wind_data_date_features.csv\")\n",
        "df.head()\n",
        "df.timestamp =  pd.to_datetime(df[\"timestamp\"], format=\"%Y-%m-%d %H:%M:%S\")\n",
        "df.date =  pd.to_datetime(df[\"date\"], format=\"%Y-%m-%d\")"
      ]
    },
    {
      "cell_type": "code",
      "execution_count": 9,
      "metadata": {
        "id": "CrZpECR3u7rr",
        "colab": {
          "base_uri": "https://localhost:8080/",
          "height": 473
        },
        "outputId": "b23455b4-8614-443e-8b2d-a5993f19fa2f"
      },
      "outputs": [
        {
          "output_type": "display_data",
          "data": {
            "text/plain": [
              "<Figure size 1200x500 with 1 Axes>"
            ],
            "image/png": "[encoded data removed]"
          },
          "metadata": {}
        }
      ],
      "source": [
        "df_diurnal = df[(df[\"date\"] >= \"2020-01-01\") & (df[\"date\"] <=\"2020-01-21\") &\n",
        " (df[\"location\"]==\"Bothasig AQM Site\")]\n",
        "plt.figure(figsize=(12, 5))\n",
        "sns.lineplot(data=df_diurnal, x=\"timestamp\", y=\"wind_speed\")\n",
        "plt.show()"
      ]
    },
    {
      "cell_type": "code",
      "source": [],
      "metadata": {
        "id": "4af1a7dtUoYE"
      },
      "execution_count": null,
      "outputs": []
    },
    {
      "cell_type": "markdown",
      "metadata": {
        "id": "1rgGgmaR8tna"
      },
      "source": [
        "### Research questions\n",
        "\n",
        "From the plot above, we can observe some discernible patterns, including a diurnal cycle and an overall trend over the study period. Our objectives are as follows:\n",
        "\n",
        "1. Diurnal Cycle Analysis\n",
        "  - What does the average diurnal cycle of wind speed look like?  \n",
        "  - At what time does wind speed peak, and when does it reach its lowest point?  \n",
        "  - Can we quantify the difference between the maximum and minimum wind speed within a day and estimate its credible interval?  \n",
        "\n",
        "2. Overall Trend Analysis\n",
        "  - The overall trend appears to be non-linear.  \n",
        "  - Can we model this trend by incorporating polynomial terms?  \n",
        "  - What is the most appropriate polynomial order for capturing this trend?  \n"
      ]
    },
    {
      "cell_type": "markdown",
      "metadata": {
        "id": "QbS-FeRY3RMJ"
      },
      "source": [
        "## 3.Building a statistical model\n",
        "To investigate these questions, we will stick with a Bayesian normal fixed effects regression model.\n",
        "\n",
        "Let us denote by $y_i$ the log windspeed of the $i$th observation; by $X_{ij}$, $j=1,\\dotsc,23$ binary indicators that evaluate to $1$ if the $i$th observation corresponds to the $j$th hour of the day; and by $X_{i25}$ the standardised `day` variable.  We will also include polynomial terms of this variable. We define our regression model as follows:\n",
        "\n",
        "\\begin{align*}\n",
        "& y_i \\sim \\text{Normal}(\\mu_i, \\sigma^2) \\\\\n",
        "& \\mu_i = \\beta_0 + \\sum_{j=1}^{24}\\beta_{j} X_{ij} + \\sum_{p=1}^{P} \\beta_{24+p} X_{i25}^{p} \\\\\n",
        "& \\beta_0 \\sim \\text{Normal}(0, 100) \\\\\n",
        "& \\beta_j \\sim \\text{Normal}(0, 1) \\\\\n",
        "& \\sigma \\sim \\text{Half-Cauchy}(0,1)\n",
        "\\end{align*}\n",
        "\n",
        "Here, the $\\beta$ terms are the unknown fixed effect regression coefficients, and $\\sigma^2$ is the measurement noise.\n",
        "\n",
        "We want to estimate the joint posterior density\n",
        "\\begin{align*}\n",
        "p(\\beta_0,\\dotsc,\\beta_{24+P},\\sigma | y, X).\n",
        "\\end{align*}\n"
      ]
    },
    {
      "cell_type": "markdown",
      "metadata": {
        "id": "peIgDFZK77Zs"
      },
      "source": [
        "#### 3.1 Consideration\n",
        "* Covariates $X_1, \\ldots, X_{24}$ (hour):\n",
        "The original variable hour is categorical with 24 categories. A common practice is to select one category (e.g., hour 0) as the base and include the remaining 23 dummy variables in the model. However, in this analysis, we choose to include all 24 categories. This approach is motivated by our interest in capturing the average diurnal pattern, which can be visualized by plotting the coefficient estimates $\\hat{\\beta}{1}, \\ldots, \\hat{\\beta}{24}$ along with their credible intervals. Omitting the base category would be inconvenient for this purpose. To ensure that these 24 parameters are identifiable, we impose the constraint that they sum to zero: $\\sum_{j=1}^{24}\\beta_j = 0$. This constraint guarantees identifiability while allowing us to interpret the average diurnal pattern directly from the coefficient estimates.\n",
        "* Covariates $X_{25},\\dots,X_{24+P}$ (day):\n",
        "Let $D_i$ be the variable indicating the day on which the $i$-th observation is recorded, such that $D_i = 1$ if the observation was recorded on the first day of the study period, $D_i = 2$ if recorded on the second day, and so on. We standardise this variable by $X_{i25} = (D_i - m_i)/s_i$, where $m_i$ and $s_i$ are mean and the standard deviation of $D_i$.\n",
        "* The target variable wind_speed: This variable takes positive values. In this analysis, we apply a simple log transformation. Alternatively, we could deviate from the normal model and use a probability distribution with support $(0, \\infty)$, such as the Weibull distribution, which is a common choice for modeling wind speed."
      ]
    },
    {
      "cell_type": "markdown",
      "metadata": {
        "id": "N9QZnk-470uM"
      },
      "source": [
        "#### 3.2 Prior specification\n",
        "\n",
        "To specify the prior distributions, I worked out that the mean log windspeed is around $1.5$. So we expect the posterior $\\beta_0$ to be around that value in the above model. For this reason, we chose a $\\text{Normal}(0, 5^2)$ prior, which has 95% mass approximately in $[-10,10]$. With this choice, we expect that the marginal posterior density of $\\beta_0$ will lie nicely within the prior density of $\\beta_0$. Note that it would be poor practice to specify a prior that is much wider (such as $\\text{Normal}(0, 100^2)$) as this may lead to poor sampling. It would also be poor practice to center the prior at $1.5$ (such as $\\text{Normal}(1.5, 1^2)$) as this could make it difficult to apply the model to a slightly different data set.\n",
        "\n",
        "For the binary variables and the standardised $X_{i25}$ and its polynomials, we can chose default $\\text{Normal}(0, 1)$ priors. If $X_{i25}$ had not been standardised and be in nominal log year or year values, we would expect very small values of the posterior $\\beta_{25}$, and a $\\text{Normal}(0, 1)$ might be unsuitably vague. This should make clear to you that, typically, the default prior choices that are listed and investigated in textbooks or the `Stan` manual are suitable to data and covariates on standardised scales. Once the data are standardised, then there are standard Bayesian recipes that can be applied. Without standardisation, off-the-shelf recommendations are hard to make or may be poorly justified.\n",
        "\n",
        "The measurement noise $\\sigma$ is given a fairly heavy tailed $\\text{Half-Cauchy}(0,1)$ prior density. Other good options might be an Exponential prior density, Half-normal prior, or Inverse-Gamma prior on $\\sigma^2$; please see the `Stan` manual for further discussion.   \n"
      ]
    },
    {
      "cell_type": "markdown",
      "metadata": {
        "id": "NVgjY38k8hRi"
      },
      "source": [
        "## 4 Numerical inference with Stan"
      ]
    },
    {
      "cell_type": "markdown",
      "metadata": {
        "id": "cAEmO5QO_UNe"
      },
      "source": [
        "### 4.1 Further data processing\n",
        "* Filter the data based on study period and site(s) chosen. You can for example choose `\"Bothasig AQM Site\"`, `start_date = \"2020-01-01\"`, `end_date = \"2020-01-22\"`\n",
        "* Log transform the windspeed. Make sure to remove the entries with NA values. Use `DataFrame.dropna()`\n",
        "* Create dummy variables. You can use `pd.get_dummies()` with an option `drop_first = False`\n"
      ]
    },
    {
      "cell_type": "code",
      "source": [
        "df.date.max()"
      ],
      "metadata": {
        "colab": {
          "base_uri": "https://localhost:8080/"
        },
        "id": "iL0Uw_TtQKBr",
        "outputId": "2668c063-03ed-41b5-db39-044cb1f740d9"
      },
      "execution_count": 10,
      "outputs": [
        {
          "output_type": "execute_result",
          "data": {
            "text/plain": [
              "Timestamp('2020-12-31 00:00:00')"
            ]
          },
          "metadata": {},
          "execution_count": 10
        }
      ]
    },
    {
      "cell_type": "code",
      "execution_count": 11,
      "metadata": {
        "id": "ffnvN1Az_WCC"
      },
      "outputs": [],
      "source": [
        "df_data = df[(df[\"date\"] >= \"2018-01-01\") & (df[\"date\"] <=\"2020-01-01\") &\n",
        " (df[\"location\"]==\"Bothasig AQM Site\")]"
      ]
    },
    {
      "cell_type": "code",
      "source": [
        "plt.figure(figsize=(12, 5))\n",
        "sns.lineplot(data=df_data, x=\"timestamp\", y=\"wind_speed\")\n",
        "plt.show()"
      ],
      "metadata": {
        "colab": {
          "base_uri": "https://localhost:8080/",
          "height": 473
        },
        "id": "HgtpXBgiQiP2",
        "outputId": "b1eddcf8-0632-4090-9744-7c7c8ea453e5"
      },
      "execution_count": 12,
      "outputs": [
        {
          "output_type": "display_data",
          "data": {
            "text/plain": [
              "<Figure size 1200x500 with 1 Axes>"
            ],
            "image/png": "[encoded data removed]"
          },
          "metadata": {}
        }
      ]
    },
    {
      "cell_type": "code",
      "source": [
        "df_data.head()"
      ],
      "metadata": {
        "colab": {
          "base_uri": "https://localhost:8080/",
          "height": 293
        },
        "id": "0aVdFf1VQsia",
        "outputId": "4463a7e8-5e42-4a3f-9259-b309c145e148"
      },
      "execution_count": 13,
      "outputs": [
        {
          "output_type": "execute_result",
          "data": {
            "text/plain": [
              "                 timestamp           location  wind_dir  wind_speed  \\\n",
              "192798 2018-01-01 00:00:00  Bothasig AQM Site      44.1         1.5   \n",
              "192809 2018-01-01 01:00:00  Bothasig AQM Site     302.1         2.7   \n",
              "192816 2018-01-01 02:00:00  Bothasig AQM Site     320.1         2.8   \n",
              "192819 2018-01-01 03:00:00  Bothasig AQM Site     314.3         2.5   \n",
              "192828 2018-01-01 04:00:00  Bothasig AQM Site     330.3         2.1   \n",
              "\n",
              "             date  hour  dow dow_hour  month  year month_year  \n",
              "192798 2018-01-01     0    1     1-00      1  2018    2018-01  \n",
              "192809 2018-01-01     1    1     1-01      1  2018    2018-01  \n",
              "192816 2018-01-01     2    1     1-02      1  2018    2018-01  \n",
              "192819 2018-01-01     3    1     1-03      1  2018    2018-01  \n",
              "192828 2018-01-01     4    1     1-04      1  2018    2018-01  "
            ],
            "text/html": [
              "\n",
              "  <div id=\"df-63c351c7-eae6-47a3-b334-d3550b41350f\" class=\"colab-df-container\">\n",
              "    <div>\n",
              "<style scoped>\n",
              "    .dataframe tbody tr th:only-of-type {\n",
              "        vertical-align: middle;\n",
              "    }\n",
              "\n",
              "    .dataframe tbody tr th {\n",
              "        vertical-align: top;\n",
              "    }\n",
              "\n",
              "    .dataframe thead th {\n",
              "        text-align: right;\n",
              "    }\n",
              "</style>\n",
              "<table border=\"1\" class=\"dataframe\">\n",
              "  <thead>\n",
              "    <tr style=\"text-align: right;\">\n",
              "      <th></th>\n",
              "      <th>timestamp</th>\n",
              "      <th>location</th>\n",
              "      <th>wind_dir</th>\n",
              "      <th>wind_speed</th>\n",
              "      <th>date</th>\n",
              "      <th>hour</th>\n",
              "      <th>dow</th>\n",
              "      <th>dow_hour</th>\n",
              "      <th>month</th>\n",
              "      <th>year</th>\n",
              "      <th>month_year</th>\n",
              "    </tr>\n",
              "  </thead>\n",
              "  <tbody>\n",
              "    <tr>\n",
              "      <th>192798</th>\n",
              "      <td>2018-01-01 00:00:00</td>\n",
              "      <td>Bothasig AQM Site</td>\n",
              "      <td>44.1</td>\n",
              "      <td>1.5</td>\n",
              "      <td>2018-01-01</td>\n",
              "      <td>0</td>\n",
              "      <td>1</td>\n",
              "      <td>1-00</td>\n",
              "      <td>1</td>\n",
              "      <td>2018</td>\n",
              "      <td>2018-01</td>\n",
              "    </tr>\n",
              "    <tr>\n",
              "      <th>192809</th>\n",
              "      <td>2018-01-01 01:00:00</td>\n",
              "      <td>Bothasig AQM Site</td>\n",
              "      <td>302.1</td>\n",
              "      <td>2.7</td>\n",
              "      <td>2018-01-01</td>\n",
              "      <td>1</td>\n",
              "      <td>1</td>\n",
              "      <td>1-01</td>\n",
              "      <td>1</td>\n",
              "      <td>2018</td>\n",
              "      <td>2018-01</td>\n",
              "    </tr>\n",
              "    <tr>\n",
              "      <th>192816</th>\n",
              "      <td>2018-01-01 02:00:00</td>\n",
              "      <td>Bothasig AQM Site</td>\n",
              "      <td>320.1</td>\n",
              "      <td>2.8</td>\n",
              "      <td>2018-01-01</td>\n",
              "      <td>2</td>\n",
              "      <td>1</td>\n",
              "      <td>1-02</td>\n",
              "      <td>1</td>\n",
              "      <td>2018</td>\n",
              "      <td>2018-01</td>\n",
              "    </tr>\n",
              "    <tr>\n",
              "      <th>192819</th>\n",
              "      <td>2018-01-01 03:00:00</td>\n",
              "      <td>Bothasig AQM Site</td>\n",
              "      <td>314.3</td>\n",
              "      <td>2.5</td>\n",
              "      <td>2018-01-01</td>\n",
              "      <td>3</td>\n",
              "      <td>1</td>\n",
              "      <td>1-03</td>\n",
              "      <td>1</td>\n",
              "      <td>2018</td>\n",
              "      <td>2018-01</td>\n",
              "    </tr>\n",
              "    <tr>\n",
              "      <th>192828</th>\n",
              "      <td>2018-01-01 04:00:00</td>\n",
              "      <td>Bothasig AQM Site</td>\n",
              "      <td>330.3</td>\n",
              "      <td>2.1</td>\n",
              "      <td>2018-01-01</td>\n",
              "      <td>4</td>\n",
              "      <td>1</td>\n",
              "      <td>1-04</td>\n",
              "      <td>1</td>\n",
              "      <td>2018</td>\n",
              "      <td>2018-01</td>\n",
              "    </tr>\n",
              "  </tbody>\n",
              "</table>\n",
              "</div>\n",
              "    <div class=\"colab-df-buttons\">\n",
              "\n",
              "  <div class=\"colab-df-container\">\n",
              "    <button class=\"colab-df-convert\" onclick=\"convertToInteractive('df-63c351c7-eae6-47a3-b334-d3550b41350f')\"\n",
              "            title=\"Convert this dataframe to an interactive table.\"\n",
              "            style=\"display:none;\">\n",
              "\n",
              "  <svg xmlns=\"http://www.w3.org/2000/svg\" height=\"24px\" viewBox=\"0 -960 960 960\">\n",
              "    <path d=\"M120-120v-720h720v720H120Zm60-500h600v-160H180v160Zm220 220h160v-160H400v160Zm0 220h160v-160H400v160ZM180-400h160v-160H180v160Zm440 0h160v-160H620v160ZM180-180h160v-160H180v160Zm440 0h160v-160H620v160Z\"/>\n",
              "  </svg>\n",
              "    </button>\n",
              "\n",
              "  <style>\n",
              "    .colab-df-container {\n",
              "      display:flex;\n",
              "      gap: 12px;\n",
              "    }\n",
              "\n",
              "    .colab-df-convert {\n",
              "      background-color: #E8F0FE;\n",
              "      border: none;\n",
              "      border-radius: 50%;\n",
              "      cursor: pointer;\n",
              "      display: none;\n",
              "      fill: #1967D2;\n",
              "      height: 32px;\n",
              "      padding: 0 0 0 0;\n",
              "      width: 32px;\n",
              "    }\n",
              "\n",
              "    .colab-df-convert:hover {\n",
              "      background-color: #E2EBFA;\n",
              "      box-shadow: 0px 1px 2px rgba(60, 64, 67, 0.3), 0px 1px 3px 1px rgba(60, 64, 67, 0.15);\n",
              "      fill: #174EA6;\n",
              "    }\n",
              "\n",
              "    .colab-df-buttons div {\n",
              "      margin-bottom: 4px;\n",
              "    }\n",
              "\n",
              "    [theme=dark] .colab-df-convert {\n",
              "      background-color: #3B4455;\n",
              "      fill: #D2E3FC;\n",
              "    }\n",
              "\n",
              "    [theme=dark] .colab-df-convert:hover {\n",
              "      background-color: #434B5C;\n",
              "      box-shadow: 0px 1px 3px 1px rgba(0, 0, 0, 0.15);\n",
              "      filter: drop-shadow(0px 1px 2px rgba(0, 0, 0, 0.3));\n",
              "      fill: #FFFFFF;\n",
              "    }\n",
              "  </style>\n",
              "\n",
              "    <script>\n",
              "      const buttonEl =\n",
              "        document.querySelector('#df-63c351c7-eae6-47a3-b334-d3550b41350f button.colab-df-convert');\n",
              "      buttonEl.style.display =\n",
              "        google.colab.kernel.accessAllowed ? 'block' : 'none';\n",
              "\n",
              "      async function convertToInteractive(key) {\n",
              "        const element = document.querySelector('#df-63c351c7-eae6-47a3-b334-d3550b41350f');\n",
              "        const dataTable =\n",
              "          await google.colab.kernel.invokeFunction('convertToInteractive',\n",
              "                                                    [key], {});\n",
              "        if (!dataTable) return;\n",
              "\n",
              "        const docLinkHtml = 'Like what you see? Visit the ' +\n",
              "          '<a target=\"_blank\" href=https://colab.research.google.com/notebooks/data_table.ipynb>data table notebook</a>'\n",
              "          + ' to learn more about interactive tables.';\n",
              "        element.innerHTML = '';\n",
              "        dataTable['output_type'] = 'display_data';\n",
              "        await google.colab.output.renderOutput(dataTable, element);\n",
              "        const docLink = document.createElement('div');\n",
              "        docLink.innerHTML = docLinkHtml;\n",
              "        element.appendChild(docLink);\n",
              "      }\n",
              "    </script>\n",
              "  </div>\n",
              "\n",
              "\n",
              "<div id=\"df-c032430e-84e8-4a4c-a602-5761f3e15e79\">\n",
              "  <button class=\"colab-df-quickchart\" onclick=\"quickchart('df-c032430e-84e8-4a4c-a602-5761f3e15e79')\"\n",
              "            title=\"Suggest charts\"\n",
              "            style=\"display:none;\">\n",
              "\n",
              "<svg xmlns=\"http://www.w3.org/2000/svg\" height=\"24px\"viewBox=\"0 0 24 24\"\n",
              "     width=\"24px\">\n",
              "    <g>\n",
              "        <path d=\"M19 3H5c-1.1 0-2 .9-2 2v14c0 1.1.9 2 2 2h14c1.1 0 2-.9 2-2V5c0-1.1-.9-2-2-2zM9 17H7v-7h2v7zm4 0h-2V7h2v10zm4 0h-2v-4h2v4z\"/>\n",
              "    </g>\n",
              "</svg>\n",
              "  </button>\n",
              "\n",
              "<style>\n",
              "  .colab-df-quickchart {\n",
              "      --bg-color: #E8F0FE;\n",
              "      --fill-color: #1967D2;\n",
              "      --hover-bg-color: #E2EBFA;\n",
              "      --hover-fill-color: #174EA6;\n",
              "      --disabled-fill-color: #AAA;\n",
              "      --disabled-bg-color: #DDD;\n",
              "  }\n",
              "\n",
              "  [theme=dark] .colab-df-quickchart {\n",
              "      --bg-color: #3B4455;\n",
              "      --fill-color: #D2E3FC;\n",
              "      --hover-bg-color: #434B5C;\n",
              "      --hover-fill-color: #FFFFFF;\n",
              "      --disabled-bg-color: #3B4455;\n",
              "      --disabled-fill-color: #666;\n",
              "  }\n",
              "\n",
              "  .colab-df-quickchart {\n",
              "    background-color: var(--bg-color);\n",
              "    border: none;\n",
              "    border-radius: 50%;\n",
              "    cursor: pointer;\n",
              "    display: none;\n",
              "    fill: var(--fill-color);\n",
              "    height: 32px;\n",
              "    padding: 0;\n",
              "    width: 32px;\n",
              "  }\n",
              "\n",
              "  .colab-df-quickchart:hover {\n",
              "    background-color: var(--hover-bg-color);\n",
              "    box-shadow: 0 1px 2px rgba(60, 64, 67, 0.3), 0 1px 3px 1px rgba(60, 64, 67, 0.15);\n",
              "    fill: var(--button-hover-fill-color);\n",
              "  }\n",
              "\n",
              "  .colab-df-quickchart-complete:disabled,\n",
              "  .colab-df-quickchart-complete:disabled:hover {\n",
              "    background-color: var(--disabled-bg-color);\n",
              "    fill: var(--disabled-fill-color);\n",
              "    box-shadow: none;\n",
              "  }\n",
              "\n",
              "  .colab-df-spinner {\n",
              "    border: 2px solid var(--fill-color);\n",
              "    border-color: transparent;\n",
              "    border-bottom-color: var(--fill-color);\n",
              "    animation:\n",
              "      spin 1s steps(1) infinite;\n",
              "  }\n",
              "\n",
              "  @keyframes spin {\n",
              "    0% {\n",
              "      border-color: transparent;\n",
              "      border-bottom-color: var(--fill-color);\n",
              "      border-left-color: var(--fill-color);\n",
              "    }\n",
              "    20% {\n",
              "      border-color: transparent;\n",
              "      border-left-color: var(--fill-color);\n",
              "      border-top-color: var(--fill-color);\n",
              "    }\n",
              "    30% {\n",
              "      border-color: transparent;\n",
              "      border-left-color: var(--fill-color);\n",
              "      border-top-color: var(--fill-color);\n",
              "      border-right-color: var(--fill-color);\n",
              "    }\n",
              "    40% {\n",
              "      border-color: transparent;\n",
              "      border-right-color: var(--fill-color);\n",
              "      border-top-color: var(--fill-color);\n",
              "    }\n",
              "    60% {\n",
              "      border-color: transparent;\n",
              "      border-right-color: var(--fill-color);\n",
              "    }\n",
              "    80% {\n",
              "      border-color: transparent;\n",
              "      border-right-color: var(--fill-color);\n",
              "      border-bottom-color: var(--fill-color);\n",
              "    }\n",
              "    90% {\n",
              "      border-color: transparent;\n",
              "      border-bottom-color: var(--fill-color);\n",
              "    }\n",
              "  }\n",
              "</style>\n",
              "\n",
              "  <script>\n",
              "    async function quickchart(key) {\n",
              "      const quickchartButtonEl =\n",
              "        document.querySelector('#' + key + ' button');\n",
              "      quickchartButtonEl.disabled = true;  // To prevent multiple clicks.\n",
              "      quickchartButtonEl.classList.add('colab-df-spinner');\n",
              "      try {\n",
              "        const charts = await google.colab.kernel.invokeFunction(\n",
              "            'suggestCharts', [key], {});\n",
              "      } catch (error) {\n",
              "        console.error('Error during call to suggestCharts:', error);\n",
              "      }\n",
              "      quickchartButtonEl.classList.remove('colab-df-spinner');\n",
              "      quickchartButtonEl.classList.add('colab-df-quickchart-complete');\n",
              "    }\n",
              "    (() => {\n",
              "      let quickchartButtonEl =\n",
              "        document.querySelector('#df-c032430e-84e8-4a4c-a602-5761f3e15e79 button');\n",
              "      quickchartButtonEl.style.display =\n",
              "        google.colab.kernel.accessAllowed ? 'block' : 'none';\n",
              "    })();\n",
              "  </script>\n",
              "</div>\n",
              "\n",
              "    </div>\n",
              "  </div>\n"
            ],
            "application/vnd.google.colaboratory.intrinsic+json": {
              "type": "dataframe",
              "variable_name": "df_data",
              "repr_error": "0"
            }
          },
          "metadata": {},
          "execution_count": 13
        }
      ]
    },
    {
      "cell_type": "code",
      "source": [
        "df_data.shape"
      ],
      "metadata": {
        "colab": {
          "base_uri": "https://localhost:8080/"
        },
        "id": "alNsQwwHQ0Nj",
        "outputId": "fe9e4965-6b78-49d0-f637-f215678fd832"
      },
      "execution_count": 14,
      "outputs": [
        {
          "output_type": "execute_result",
          "data": {
            "text/plain": [
              "(17544, 11)"
            ]
          },
          "metadata": {},
          "execution_count": 14
        }
      ]
    },
    {
      "cell_type": "code",
      "source": [
        "df_data['log_wind_speed'] = np.log(df_data['wind_speed'].values)"
      ],
      "metadata": {
        "colab": {
          "base_uri": "https://localhost:8080/"
        },
        "id": "-sl0eogXUIDI",
        "outputId": "83d64bbb-6aa3-4a43-fb53-f5497ac3dda1"
      },
      "execution_count": 15,
      "outputs": [
        {
          "output_type": "stream",
          "name": "stderr",
          "text": [
            "<ipython-input-15-ffbd3f23da10>:1: SettingWithCopyWarning: \n",
            "A value is trying to be set on a copy of a slice from a DataFrame.\n",
            "Try using .loc[row_indexer,col_indexer] = value instead\n",
            "\n",
            "See the caveats in the documentation: https://pandas.pydata.org/pandas-docs/stable/user_guide/indexing.html#returning-a-view-versus-a-copy\n",
            "  df_data['log_wind_speed'] = np.log(df_data['wind_speed'].values)\n"
          ]
        }
      ]
    },
    {
      "cell_type": "code",
      "source": [
        "dummies = pd.get_dummies(df_data['hour'],drop_first=False)"
      ],
      "metadata": {
        "id": "kr9KevOQU_tz"
      },
      "execution_count": 16,
      "outputs": []
    },
    {
      "cell_type": "code",
      "source": [
        "df_data = pd.concat([df_data, dummies], axis=1)\n",
        "df_data.head()"
      ],
      "metadata": {
        "colab": {
          "base_uri": "https://localhost:8080/",
          "height": 342
        },
        "id": "E3oC33FsVuUR",
        "outputId": "8eff6018-ae0c-4a8b-dd0e-5b18fc6291a8"
      },
      "execution_count": 17,
      "outputs": [
        {
          "output_type": "execute_result",
          "data": {
            "text/plain": [
              "                 timestamp           location  wind_dir  wind_speed  \\\n",
              "192798 2018-01-01 00:00:00  Bothasig AQM Site      44.1         1.5   \n",
              "192809 2018-01-01 01:00:00  Bothasig AQM Site     302.1         2.7   \n",
              "192816 2018-01-01 02:00:00  Bothasig AQM Site     320.1         2.8   \n",
              "192819 2018-01-01 03:00:00  Bothasig AQM Site     314.3         2.5   \n",
              "192828 2018-01-01 04:00:00  Bothasig AQM Site     330.3         2.1   \n",
              "\n",
              "             date  hour  dow dow_hour  month  year  ...     14     15     16  \\\n",
              "192798 2018-01-01     0    1     1-00      1  2018  ...  False  False  False   \n",
              "192809 2018-01-01     1    1     1-01      1  2018  ...  False  False  False   \n",
              "192816 2018-01-01     2    1     1-02      1  2018  ...  False  False  False   \n",
              "192819 2018-01-01     3    1     1-03      1  2018  ...  False  False  False   \n",
              "192828 2018-01-01     4    1     1-04      1  2018  ...  False  False  False   \n",
              "\n",
              "           17     18     19     20     21     22     23  \n",
              "192798  False  False  False  False  False  False  False  \n",
              "192809  False  False  False  False  False  False  False  \n",
              "192816  False  False  False  False  False  False  False  \n",
              "192819  False  False  False  False  False  False  False  \n",
              "192828  False  False  False  False  False  False  False  \n",
              "\n",
              "[5 rows x 36 columns]"
            ],
            "text/html": [
              "\n",
              "  <div id=\"df-3f11eafb-545a-4373-b92d-d370dba7f208\" class=\"colab-df-container\">\n",
              "    <div>\n",
              "<style scoped>\n",
              "    .dataframe tbody tr th:only-of-type {\n",
              "        vertical-align: middle;\n",
              "    }\n",
              "\n",
              "    .dataframe tbody tr th {\n",
              "        vertical-align: top;\n",
              "    }\n",
              "\n",
              "    .dataframe thead th {\n",
              "        text-align: right;\n",
              "    }\n",
              "</style>\n",
              "<table border=\"1\" class=\"dataframe\">\n",
              "  <thead>\n",
              "    <tr style=\"text-align: right;\">\n",
              "      <th></th>\n",
              "      <th>timestamp</th>\n",
              "      <th>location</th>\n",
              "      <th>wind_dir</th>\n",
              "      <th>wind_speed</th>\n",
              "      <th>date</th>\n",
              "      <th>hour</th>\n",
              "      <th>dow</th>\n",
              "      <th>dow_hour</th>\n",
              "      <th>month</th>\n",
              "      <th>year</th>\n",
              "      <th>...</th>\n",
              "      <th>14</th>\n",
              "      <th>15</th>\n",
              "      <th>16</th>\n",
              "      <th>17</th>\n",
              "      <th>18</th>\n",
              "      <th>19</th>\n",
              "      <th>20</th>\n",
              "      <th>21</th>\n",
              "      <th>22</th>\n",
              "      <th>23</th>\n",
              "    </tr>\n",
              "  </thead>\n",
              "  <tbody>\n",
              "    <tr>\n",
              "      <th>192798</th>\n",
              "      <td>2018-01-01 00:00:00</td>\n",
              "      <td>Bothasig AQM Site</td>\n",
              "      <td>44.1</td>\n",
              "      <td>1.5</td>\n",
              "      <td>2018-01-01</td>\n",
              "      <td>0</td>\n",
              "      <td>1</td>\n",
              "      <td>1-00</td>\n",
              "      <td>1</td>\n",
              "      <td>2018</td>\n",
              "      <td>...</td>\n",
              "      <td>False</td>\n",
              "      <td>False</td>\n",
              "      <td>False</td>\n",
              "      <td>False</td>\n",
              "      <td>False</td>\n",
              "      <td>False</td>\n",
              "      <td>False</td>\n",
              "      <td>False</td>\n",
              "      <td>False</td>\n",
              "      <td>False</td>\n",
              "    </tr>\n",
              "    <tr>\n",
              "      <th>192809</th>\n",
              "      <td>2018-01-01 01:00:00</td>\n",
              "      <td>Bothasig AQM Site</td>\n",
              "      <td>302.1</td>\n",
              "      <td>2.7</td>\n",
              "      <td>2018-01-01</td>\n",
              "      <td>1</td>\n",
              "      <td>1</td>\n",
              "      <td>1-01</td>\n",
              "      <td>1</td>\n",
              "      <td>2018</td>\n",
              "      <td>...</td>\n",
              "      <td>False</td>\n",
              "      <td>False</td>\n",
              "      <td>False</td>\n",
              "      <td>False</td>\n",
              "      <td>False</td>\n",
              "      <td>False</td>\n",
              "      <td>False</td>\n",
              "      <td>False</td>\n",
              "      <td>False</td>\n",
              "      <td>False</td>\n",
              "    </tr>\n",
              "    <tr>\n",
              "      <th>192816</th>\n",
              "      <td>2018-01-01 02:00:00</td>\n",
              "      <td>Bothasig AQM Site</td>\n",
              "      <td>320.1</td>\n",
              "      <td>2.8</td>\n",
              "      <td>2018-01-01</td>\n",
              "      <td>2</td>\n",
              "      <td>1</td>\n",
              "      <td>1-02</td>\n",
              "      <td>1</td>\n",
              "      <td>2018</td>\n",
              "      <td>...</td>\n",
              "      <td>False</td>\n",
              "      <td>False</td>\n",
              "      <td>False</td>\n",
              "      <td>False</td>\n",
              "      <td>False</td>\n",
              "      <td>False</td>\n",
              "      <td>False</td>\n",
              "      <td>False</td>\n",
              "      <td>False</td>\n",
              "      <td>False</td>\n",
              "    </tr>\n",
              "    <tr>\n",
              "      <th>192819</th>\n",
              "      <td>2018-01-01 03:00:00</td>\n",
              "      <td>Bothasig AQM Site</td>\n",
              "      <td>314.3</td>\n",
              "      <td>2.5</td>\n",
              "      <td>2018-01-01</td>\n",
              "      <td>3</td>\n",
              "      <td>1</td>\n",
              "      <td>1-03</td>\n",
              "      <td>1</td>\n",
              "      <td>2018</td>\n",
              "      <td>...</td>\n",
              "      <td>False</td>\n",
              "      <td>False</td>\n",
              "      <td>False</td>\n",
              "      <td>False</td>\n",
              "      <td>False</td>\n",
              "      <td>False</td>\n",
              "      <td>False</td>\n",
              "      <td>False</td>\n",
              "      <td>False</td>\n",
              "      <td>False</td>\n",
              "    </tr>\n",
              "    <tr>\n",
              "      <th>192828</th>\n",
              "      <td>2018-01-01 04:00:00</td>\n",
              "      <td>Bothasig AQM Site</td>\n",
              "      <td>330.3</td>\n",
              "      <td>2.1</td>\n",
              "      <td>2018-01-01</td>\n",
              "      <td>4</td>\n",
              "      <td>1</td>\n",
              "      <td>1-04</td>\n",
              "      <td>1</td>\n",
              "      <td>2018</td>\n",
              "      <td>...</td>\n",
              "      <td>False</td>\n",
              "      <td>False</td>\n",
              "      <td>False</td>\n",
              "      <td>False</td>\n",
              "      <td>False</td>\n",
              "      <td>False</td>\n",
              "      <td>False</td>\n",
              "      <td>False</td>\n",
              "      <td>False</td>\n",
              "      <td>False</td>\n",
              "    </tr>\n",
              "  </tbody>\n",
              "</table>\n",
              "<p>5 rows × 36 columns</p>\n",
              "</div>\n",
              "    <div class=\"colab-df-buttons\">\n",
              "\n",
              "  <div class=\"colab-df-container\">\n",
              "    <button class=\"colab-df-convert\" onclick=\"convertToInteractive('df-3f11eafb-545a-4373-b92d-d370dba7f208')\"\n",
              "            title=\"Convert this dataframe to an interactive table.\"\n",
              "            style=\"display:none;\">\n",
              "\n",
              "  <svg xmlns=\"http://www.w3.org/2000/svg\" height=\"24px\" viewBox=\"0 -960 960 960\">\n",
              "    <path d=\"M120-120v-720h720v720H120Zm60-500h600v-160H180v160Zm220 220h160v-160H400v160Zm0 220h160v-160H400v160ZM180-400h160v-160H180v160Zm440 0h160v-160H620v160ZM180-180h160v-160H180v160Zm440 0h160v-160H620v160Z\"/>\n",
              "  </svg>\n",
              "    </button>\n",
              "\n",
              "  <style>\n",
              "    .colab-df-container {\n",
              "      display:flex;\n",
              "      gap: 12px;\n",
              "    }\n",
              "\n",
              "    .colab-df-convert {\n",
              "      background-color: #E8F0FE;\n",
              "      border: none;\n",
              "      border-radius: 50%;\n",
              "      cursor: pointer;\n",
              "      display: none;\n",
              "      fill: #1967D2;\n",
              "      height: 32px;\n",
              "      padding: 0 0 0 0;\n",
              "      width: 32px;\n",
              "    }\n",
              "\n",
              "    .colab-df-convert:hover {\n",
              "      background-color: #E2EBFA;\n",
              "      box-shadow: 0px 1px 2px rgba(60, 64, 67, 0.3), 0px 1px 3px 1px rgba(60, 64, 67, 0.15);\n",
              "      fill: #174EA6;\n",
              "    }\n",
              "\n",
              "    .colab-df-buttons div {\n",
              "      margin-bottom: 4px;\n",
              "    }\n",
              "\n",
              "    [theme=dark] .colab-df-convert {\n",
              "      background-color: #3B4455;\n",
              "      fill: #D2E3FC;\n",
              "    }\n",
              "\n",
              "    [theme=dark] .colab-df-convert:hover {\n",
              "      background-color: #434B5C;\n",
              "      box-shadow: 0px 1px 3px 1px rgba(0, 0, 0, 0.15);\n",
              "      filter: drop-shadow(0px 1px 2px rgba(0, 0, 0, 0.3));\n",
              "      fill: #FFFFFF;\n",
              "    }\n",
              "  </style>\n",
              "\n",
              "    <script>\n",
              "      const buttonEl =\n",
              "        document.querySelector('#df-3f11eafb-545a-4373-b92d-d370dba7f208 button.colab-df-convert');\n",
              "      buttonEl.style.display =\n",
              "        google.colab.kernel.accessAllowed ? 'block' : 'none';\n",
              "\n",
              "      async function convertToInteractive(key) {\n",
              "        const element = document.querySelector('#df-3f11eafb-545a-4373-b92d-d370dba7f208');\n",
              "        const dataTable =\n",
              "          await google.colab.kernel.invokeFunction('convertToInteractive',\n",
              "                                                    [key], {});\n",
              "        if (!dataTable) return;\n",
              "\n",
              "        const docLinkHtml = 'Like what you see? Visit the ' +\n",
              "          '<a target=\"_blank\" href=https://colab.research.google.com/notebooks/data_table.ipynb>data table notebook</a>'\n",
              "          + ' to learn more about interactive tables.';\n",
              "        element.innerHTML = '';\n",
              "        dataTable['output_type'] = 'display_data';\n",
              "        await google.colab.output.renderOutput(dataTable, element);\n",
              "        const docLink = document.createElement('div');\n",
              "        docLink.innerHTML = docLinkHtml;\n",
              "        element.appendChild(docLink);\n",
              "      }\n",
              "    </script>\n",
              "  </div>\n",
              "\n",
              "\n",
              "<div id=\"df-58e0a972-d0ed-4d89-8915-1254bdad5ac4\">\n",
              "  <button class=\"colab-df-quickchart\" onclick=\"quickchart('df-58e0a972-d0ed-4d89-8915-1254bdad5ac4')\"\n",
              "            title=\"Suggest charts\"\n",
              "            style=\"display:none;\">\n",
              "\n",
              "<svg xmlns=\"http://www.w3.org/2000/svg\" height=\"24px\"viewBox=\"0 0 24 24\"\n",
              "     width=\"24px\">\n",
              "    <g>\n",
              "        <path d=\"M19 3H5c-1.1 0-2 .9-2 2v14c0 1.1.9 2 2 2h14c1.1 0 2-.9 2-2V5c0-1.1-.9-2-2-2zM9 17H7v-7h2v7zm4 0h-2V7h2v10zm4 0h-2v-4h2v4z\"/>\n",
              "    </g>\n",
              "</svg>\n",
              "  </button>\n",
              "\n",
              "<style>\n",
              "  .colab-df-quickchart {\n",
              "      --bg-color: #E8F0FE;\n",
              "      --fill-color: #1967D2;\n",
              "      --hover-bg-color: #E2EBFA;\n",
              "      --hover-fill-color: #174EA6;\n",
              "      --disabled-fill-color: #AAA;\n",
              "      --disabled-bg-color: #DDD;\n",
              "  }\n",
              "\n",
              "  [theme=dark] .colab-df-quickchart {\n",
              "      --bg-color: #3B4455;\n",
              "      --fill-color: #D2E3FC;\n",
              "      --hover-bg-color: #434B5C;\n",
              "      --hover-fill-color: #FFFFFF;\n",
              "      --disabled-bg-color: #3B4455;\n",
              "      --disabled-fill-color: #666;\n",
              "  }\n",
              "\n",
              "  .colab-df-quickchart {\n",
              "    background-color: var(--bg-color);\n",
              "    border: none;\n",
              "    border-radius: 50%;\n",
              "    cursor: pointer;\n",
              "    display: none;\n",
              "    fill: var(--fill-color);\n",
              "    height: 32px;\n",
              "    padding: 0;\n",
              "    width: 32px;\n",
              "  }\n",
              "\n",
              "  .colab-df-quickchart:hover {\n",
              "    background-color: var(--hover-bg-color);\n",
              "    box-shadow: 0 1px 2px rgba(60, 64, 67, 0.3), 0 1px 3px 1px rgba(60, 64, 67, 0.15);\n",
              "    fill: var(--button-hover-fill-color);\n",
              "  }\n",
              "\n",
              "  .colab-df-quickchart-complete:disabled,\n",
              "  .colab-df-quickchart-complete:disabled:hover {\n",
              "    background-color: var(--disabled-bg-color);\n",
              "    fill: var(--disabled-fill-color);\n",
              "    box-shadow: none;\n",
              "  }\n",
              "\n",
              "  .colab-df-spinner {\n",
              "    border: 2px solid var(--fill-color);\n",
              "    border-color: transparent;\n",
              "    border-bottom-color: var(--fill-color);\n",
              "    animation:\n",
              "      spin 1s steps(1) infinite;\n",
              "  }\n",
              "\n",
              "  @keyframes spin {\n",
              "    0% {\n",
              "      border-color: transparent;\n",
              "      border-bottom-color: var(--fill-color);\n",
              "      border-left-color: var(--fill-color);\n",
              "    }\n",
              "    20% {\n",
              "      border-color: transparent;\n",
              "      border-left-color: var(--fill-color);\n",
              "      border-top-color: var(--fill-color);\n",
              "    }\n",
              "    30% {\n",
              "      border-color: transparent;\n",
              "      border-left-color: var(--fill-color);\n",
              "      border-top-color: var(--fill-color);\n",
              "      border-right-color: var(--fill-color);\n",
              "    }\n",
              "    40% {\n",
              "      border-color: transparent;\n",
              "      border-right-color: var(--fill-color);\n",
              "      border-top-color: var(--fill-color);\n",
              "    }\n",
              "    60% {\n",
              "      border-color: transparent;\n",
              "      border-right-color: var(--fill-color);\n",
              "    }\n",
              "    80% {\n",
              "      border-color: transparent;\n",
              "      border-right-color: var(--fill-color);\n",
              "      border-bottom-color: var(--fill-color);\n",
              "    }\n",
              "    90% {\n",
              "      border-color: transparent;\n",
              "      border-bottom-color: var(--fill-color);\n",
              "    }\n",
              "  }\n",
              "</style>\n",
              "\n",
              "  <script>\n",
              "    async function quickchart(key) {\n",
              "      const quickchartButtonEl =\n",
              "        document.querySelector('#' + key + ' button');\n",
              "      quickchartButtonEl.disabled = true;  // To prevent multiple clicks.\n",
              "      quickchartButtonEl.classList.add('colab-df-spinner');\n",
              "      try {\n",
              "        const charts = await google.colab.kernel.invokeFunction(\n",
              "            'suggestCharts', [key], {});\n",
              "      } catch (error) {\n",
              "        console.error('Error during call to suggestCharts:', error);\n",
              "      }\n",
              "      quickchartButtonEl.classList.remove('colab-df-spinner');\n",
              "      quickchartButtonEl.classList.add('colab-df-quickchart-complete');\n",
              "    }\n",
              "    (() => {\n",
              "      let quickchartButtonEl =\n",
              "        document.querySelector('#df-58e0a972-d0ed-4d89-8915-1254bdad5ac4 button');\n",
              "      quickchartButtonEl.style.display =\n",
              "        google.colab.kernel.accessAllowed ? 'block' : 'none';\n",
              "    })();\n",
              "  </script>\n",
              "</div>\n",
              "\n",
              "    </div>\n",
              "  </div>\n"
            ],
            "application/vnd.google.colaboratory.intrinsic+json": {
              "type": "dataframe",
              "variable_name": "df_data"
            }
          },
          "metadata": {},
          "execution_count": 17
        }
      ]
    },
    {
      "cell_type": "code",
      "source": [
        "plt.figure(figsize=(12, 5))\n",
        "sns.lineplot(data=df_data, x=\"hour\", y=\"log_wind_speed\")\n",
        "plt.show()"
      ],
      "metadata": {
        "colab": {
          "base_uri": "https://localhost:8080/",
          "height": 473
        },
        "id": "dpz4DABXXZhl",
        "outputId": "eff99b31-f22d-4794-bdf8-3e6e58f48f1e"
      },
      "execution_count": 19,
      "outputs": [
        {
          "output_type": "display_data",
          "data": {
            "text/plain": [
              "<Figure size 1200x500 with 1 Axes>"
            ],
            "image/png": "[encoded data removed]"
          },
          "metadata": {}
        }
      ]
    },
    {
      "cell_type": "markdown",
      "metadata": {
        "id": "F2dZ8MF2_WyY"
      },
      "source": [
        "### 4.2 Stan code\n",
        "Using the exmple code we looked at during the lecture, let's write stan code for the model in Section 3. Make sure to\n",
        "- Standardise the day variable, $X_{25}$\n",
        "- Incorporate a sum-to-zero constraint on $\\beta_{1},\\ldots,\\beta_{24}$. There are multiple ways to do this, and one is to add `soft-sum-to-zero` constraint, as part of prior in the model block. Consider adding `sum(beta_hour) ~ normal( 0 , 0.001*24 )`, where `beta_hour` is a vector of length $24$. What does this mean? It tries to keep the sum as close to zero as possible."
      ]
    },
    {
      "cell_type": "markdown",
      "metadata": {
        "id": "QidJ_560tCkp"
      },
      "source": [
        "Write a stan code"
      ]
    },
    {
      "cell_type": "code",
      "execution_count": 20,
      "metadata": {
        "id": "JHYsbJxJ7zeD"
      },
      "outputs": [],
      "source": [
        "model1_text = '''\n",
        "functions {\n",
        "  // Polynomial basis function\n",
        "  matrix poly_basis(vector x, int P) {\n",
        "    int N = num_elements(x);\n",
        "    matrix[N, P] U;\n",
        "    for (n in 1:N) {\n",
        "      for (p in 1:P) {\n",
        "        U[n, p] = pow(x[n], p);\n",
        "      }\n",
        "    }\n",
        "    return U;\n",
        "  }\n",
        "}\n",
        "data {\n",
        "  int<lower=1> N;\n",
        "  int<lower=1> P;\n",
        "  vector[N] x;\n",
        "  array[N] real y;\n",
        "}\n",
        "transformed data {\n",
        "  // Apply polynomial basis function to x\n",
        "  vector[N] u = log(x);\n",
        "  vector[N] u_std = (u - mean(u)) / sd(u);\n",
        "  matrix[N, P] U = poly_basis(u_std, P);\n",
        "}\n",
        "parameters {\n",
        "  real beta0;\n",
        "  vector[P] beta;\n",
        "  real<lower=0> inv_sigma;\n",
        "}\n",
        "transformed parameters {\n",
        "  vector[N] mu;\n",
        "  mu = beta0 + U*beta;\n",
        "}\n",
        "model {\n",
        "  // Priors\n",
        "  beta0 ~ normal(0, 0.9);\n",
        "  beta ~ normal(0, 1);\n",
        "  inv_sigma ~ exponential(2);\n",
        "\n",
        "  // Likelihood\n",
        "  y ~ normal(mu, 1/inv_sigma);\n",
        "}\n",
        "generated quantities {\n",
        "  vector[N] log_lik;\n",
        "  array[N] real y_rep;\n",
        "\n",
        "  for (i in 1:N) {\n",
        "    log_lik[i] = normal_lpdf(y[i] | mu[i], 1/inv_sigma);\n",
        "    y_rep[i] = normal_rng(mu[i], 1/inv_sigma);\n",
        "  }\n",
        "}\n",
        "'''"
      ]
    },
    {
      "cell_type": "markdown",
      "metadata": {
        "id": "nF-f0XRUtCkp"
      },
      "source": [
        "Compile Stan model"
      ]
    },
    {
      "cell_type": "code",
      "source": [
        "# Write the Stan model to a file\n",
        "# CmdStanPy requires the model to be written to a file\n",
        "model1_filename = output_dir.joinpath(\"wind.stan\")\n",
        "with open(model1_filename, \"w\") as f:\n",
        "    f.write(model1_text)"
      ],
      "metadata": {
        "id": "3BVNhBFPbEMk"
      },
      "execution_count": 21,
      "outputs": []
    },
    {
      "cell_type": "markdown",
      "metadata": {
        "id": "b_N1uR0utCkp"
      },
      "source": [
        "Create data dicitionary for Stan"
      ]
    },
    {
      "cell_type": "code",
      "source": [
        "df_data = df_data.drop(['timestamp',\t'location',\t'wind_dir','date',\t'hour',\t'dow',\t'dow_hour',\t'month',\t'year'\t],axis=1)"
      ],
      "metadata": {
        "id": "hqKOmdUYb6gj"
      },
      "execution_count": 22,
      "outputs": []
    },
    {
      "cell_type": "code",
      "execution_count": 23,
      "metadata": {
        "id": "UUfgGA-YpTNC"
      },
      "outputs": [],
      "source": [
        "# Create data dictionary for Stan\n",
        "stan_data = {\n",
        "    'N': df_data.shape[0],\n",
        "    'P': 3,\n",
        "    'x': df_data[df_data.columns[~df_data.columns.isin(['wind_speed'])]].values,\n",
        "    'y': df_data['wind_speed'].values\n",
        "}"
      ]
    },
    {
      "cell_type": "code",
      "source": [
        "# Compile the Stan model using CmdStanPy\n",
        "model1_compiled = CmdStanModel(stan_file=model1_filename)"
      ],
      "metadata": {
        "colab": {
          "base_uri": "https://localhost:8080/"
        },
        "id": "1UCvWZqabLJl",
        "outputId": "0c098c74-ce77-4c17-e3d4-41be46b3cdd2"
      },
      "execution_count": 24,
      "outputs": [
        {
          "output_type": "stream",
          "name": "stderr",
          "text": [
            "07:06:38 - cmdstanpy - INFO - compiling stan file /content/drive/MyDrive/StatML4PopHealth/practical1/wind.stan to exe file /content/drive/MyDrive/StatML4PopHealth/practical1/wind\n",
            "INFO:cmdstanpy:compiling stan file /content/drive/MyDrive/StatML4PopHealth/practical1/wind.stan to exe file /content/drive/MyDrive/StatML4PopHealth/practical1/wind\n",
            "07:07:53 - cmdstanpy - INFO - compiled model executable: /content/drive/MyDrive/StatML4PopHealth/practical1/wind\n",
            "INFO:cmdstanpy:compiled model executable: /content/drive/MyDrive/StatML4PopHealth/practical1/wind\n"
          ]
        }
      ]
    },
    {
      "cell_type": "markdown",
      "metadata": {
        "id": "skrheIrltCkq"
      },
      "source": [
        "Run the compiled model, with the following setting\n",
        "* 4 chains\n",
        "* warm-up 500\n",
        "* sampling 2000\n",
        "\n",
        "Make sure to set a seed!"
      ]
    },
    {
      "cell_type": "code",
      "source": [
        "os.getcwd()"
      ],
      "metadata": {
        "id": "C66GHXjzFYtO",
        "outputId": "e9fe9b59-3fce-4978-e224-9c0681ec09dc",
        "colab": {
          "base_uri": "https://localhost:8080/",
          "height": 35
        }
      },
      "execution_count": 29,
      "outputs": [
        {
          "output_type": "execute_result",
          "data": {
            "text/plain": [
              "'/content'"
            ],
            "application/vnd.google.colaboratory.intrinsic+json": {
              "type": "string"
            }
          },
          "metadata": {},
          "execution_count": 29
        }
      ]
    },
    {
      "cell_type": "code",
      "execution_count": null,
      "metadata": {
        "id": "dLQVBFy0LceU"
      },
      "outputs": [],
      "source": [
        "model1_fit = model1_compiled.sample(\n",
        "    data=stan_data,\n",
        "    seed=123,\n",
        "    chains=4,\n",
        "    parallel_chains=2,\n",
        "    iter_warmup=500,\n",
        "    iter_sampling=2000,\n",
        "    refresh=500,  # Print update every 500 iterations\n",
        "    save_warmup=True,\n",
        "    inits=[{'beta0': 0.0, 'beta': np.zeros(stan_data['P']), 'inv_sigma': 1.0}, #Assuming beta is a vector of length P from stan_data.  Adjust if it's different in your Stan model\n",
        "           {'beta0': 0.0, 'beta': np.zeros(stan_data['P']), 'inv_sigma': 1.0}]  # Initial values for the chains\n",
        ")\n"
      ]
    },
    {
      "cell_type": "code",
      "source": [
        "from google.colab import drive\n",
        "drive.mount('/content/drive')"
      ],
      "metadata": {
        "id": "O2hZEtVWhAZ8"
      },
      "execution_count": null,
      "outputs": []
    },
    {
      "cell_type": "markdown",
      "metadata": {
        "id": "iHMfNwlWHutO"
      },
      "source": [
        "### 4.3 Convergence and mixing analysis of Stan output\n",
        "Before we analyse the estimated model parameters in detail, we need to check that the algorithm converged and mixed suitably. A quick way to check if there have been any problems is to run `print(model1_fit.diagnose())`"
      ]
    },
    {
      "cell_type": "code",
      "execution_count": null,
      "metadata": {
        "id": "C2eyWsxKjMbs"
      },
      "outputs": [],
      "source": [
        "print(model1_fit.diagnose())"
      ]
    },
    {
      "cell_type": "markdown",
      "metadata": {
        "id": "-FU6MYe5OWjb"
      },
      "source": [
        "We can also get summary statistics.\n",
        "\n",
        "* What does the column n_eff mean, and are the values reasonably large?\n",
        "* What does the column Rhat mean, and are the values reasonably small?"
      ]
    },
    {
      "cell_type": "code",
      "execution_count": null,
      "metadata": {
        "id": "aPWeMSsq3Qlf"
      },
      "outputs": [],
      "source": [
        "# We can also use a library to get this summary\n",
        "# Convert the CmdStanPy model fit to ArviZ InferenceData\n",
        "model1_fit_az_idata = az.from_cmdstanpy(model1_fit, save_warmup=True)\n",
        "\n",
        "# Get summary statistics, including 2.75% and 97.5% quantiles\n",
        "summary_stats = az.summary(model1_fit_az_idata,\n",
        "                           var_names=[\"beta0\",\"beta_hour\",\"beta_day\",\"sigma\"],\n",
        "                           group=\"posterior\",\n",
        "                           hdi_prob=0.95,\n",
        "                           kind=\"all\"# 95% highest density interval\n",
        "                           )"
      ]
    },
    {
      "cell_type": "code",
      "execution_count": null,
      "metadata": {
        "id": "byXF1y1-bAt2"
      },
      "outputs": [],
      "source": [
        "summary_stats.index = ['beta0'] + [f\"hour_{i}\" for i in range(1, 25)] + ['day','squared_day','cubic_day'] + ['sigma']\n",
        "summary_stats"
      ]
    },
    {
      "cell_type": "markdown",
      "metadata": {
        "id": "jQW6Ar5KZeln"
      },
      "source": [
        "The $\\hat{R}$ and $n_{eff}$ statistics are just scalar indicators of convergence and mixing. It is much clearer to diagnose potential numerical issues with the trace plots and pair plots."
      ]
    },
    {
      "cell_type": "code",
      "execution_count": null,
      "metadata": {
        "id": "9eU0G2PWOVIA"
      },
      "outputs": [],
      "source": [
        "# Trace plot"
      ]
    },
    {
      "cell_type": "code",
      "execution_count": null,
      "metadata": {
        "id": "FJuHP-n-enFa"
      },
      "outputs": [],
      "source": [
        "# Pair plot"
      ]
    },
    {
      "cell_type": "markdown",
      "metadata": {
        "id": "Y1koXkX4e8zl"
      },
      "source": [
        "Take a minute to check the output:\n",
        "\n",
        "* What do the trace plots show? Are the trace plots reasonable?\n",
        "* What do the pair plots show? Are the pair plots reasonable?"
      ]
    },
    {
      "cell_type": "markdown",
      "metadata": {
        "id": "SgQNo7DtLHQA"
      },
      "source": [
        "We can now summarise the posterior distribution of the expected windspeed given the day and hour of the recording."
      ]
    },
    {
      "cell_type": "code",
      "execution_count": null,
      "metadata": {
        "id": "LEJTIC-ALKy1"
      },
      "outputs": [],
      "source": [
        "custom_stats = {\n",
        "    \"median\": lambda x: np.percentile(x, 50),\n",
        "\t\"ci_2.5%\": lambda x: np.percentile(x, 2.5),\n",
        "\t\"ci_97.5%\": lambda x: np.percentile(x, 97.5)\n",
        "}\n",
        "# Summarise the posterior of the mu parameter\n",
        "mu_sum = az.summary(model1_fit_az_idata, var_names=['mu'], stat_funcs=custom_stats, extend=False)"
      ]
    },
    {
      "cell_type": "markdown",
      "metadata": {
        "id": "5ep8Z9HztCks"
      },
      "source": [
        "We are modelling the log of wind speed. Let's modify the code above, to put it back to the original scale."
      ]
    },
    {
      "cell_type": "code",
      "execution_count": null,
      "metadata": {
        "id": "nNXlA5rjgmut"
      },
      "outputs": [],
      "source": [
        "custom_stats_original_sclae = {\n",
        "    \"median_original\": lambda x: np.percentile(np.exp(x), 50),\n",
        "\t\"ci_2.5%_original\": lambda x: np.percentile(np.exp(x), 2.5),\n",
        "\t\"ci_97.5%_original\": lambda x: np.percentile(np.exp(x), 97.5)\n",
        "}\n",
        "# Summarise the posterior of the mu parameter\n",
        "exp_mu_sum = az.summary(model1_fit_az_idata, var_names=['mu'], stat_funcs=custom_stats_original_sclae, extend=False)\n",
        "mu_sum = pd.concat([mu_sum, exp_mu_sum], axis=1)"
      ]
    },
    {
      "cell_type": "code",
      "execution_count": null,
      "metadata": {
        "id": "Sx_kaxetLc7P"
      },
      "outputs": [],
      "source": [
        "# Append the data to the summary\n",
        "mu_sum['wind_speed'] = df_diurnal['wind_speed'].values\n",
        "mu_sum['log_wind_speed'] = df_diurnal['log_wind_speed'].values\n",
        "mu_sum['timestamp'] = df_diurnal['timestamp'].values\n",
        "\n",
        "# Sort the data by timestamp\n",
        "mu_sum = mu_sum.sort_values('timestamp')"
      ]
    },
    {
      "cell_type": "code",
      "execution_count": null,
      "metadata": {
        "id": "aqlMmxvvL1MY"
      },
      "outputs": [],
      "source": [
        "fig = plt.figure(figsize=(12, 5))\n",
        "plt.plot(mu_sum['timestamp'], mu_sum['log_wind_speed'],color='black', alpha=0.5)\n",
        "plt.plot(mu_sum['timestamp'], mu_sum['median'], color='blue')\n",
        "plt.fill_between(mu_sum['timestamp'], mu_sum['ci_2.5%'], mu_sum['ci_97.5%'], color='blue', alpha=0.2)\n",
        "plt.xlabel(\"Timestamp\")\n",
        "plt.ylabel(\"log(wind speed)\")\n",
        "plt.show()\n"
      ]
    },
    {
      "cell_type": "code",
      "execution_count": null,
      "metadata": {
        "id": "xnaEL43Jf2FR"
      },
      "outputs": [],
      "source": [
        "fig = plt.figure(figsize=(12, 5))\n",
        "plt.plot(mu_sum['timestamp'], mu_sum['wind_speed'],color='black', alpha=0.5)\n",
        "plt.plot(mu_sum['timestamp'], mu_sum['median_original'], color='blue')\n",
        "plt.fill_between(mu_sum['timestamp'], mu_sum['ci_2.5%_original'], mu_sum2['ci_97.5%_original'], color='blue', alpha=0.2)\n",
        "#plt.set_title(\"Life Expectancy vs log(GDP per capita)\")\n",
        "plt.xlabel(\"timestamp\")\n",
        "plt.ylabel(\"wind_speed\")\n",
        "plt.show()"
      ]
    },
    {
      "cell_type": "markdown",
      "metadata": {
        "id": "WEFWcYwpFV6N"
      },
      "source": [
        "Let's now switch our focus on the predictive interval.\n",
        "Check the coverage of the interval."
      ]
    },
    {
      "cell_type": "code",
      "execution_count": null,
      "metadata": {
        "id": "Uhqy7wsRL-pG"
      },
      "outputs": [],
      "source": []
    },
    {
      "cell_type": "markdown",
      "metadata": {
        "id": "-64OmgmMtCkt"
      },
      "source": [
        "Plot the predictival interval with the observations (both log scale and orginal scale) against timestamp"
      ]
    },
    {
      "cell_type": "code",
      "execution_count": null,
      "metadata": {
        "id": "PNa0y-Pmi5HE"
      },
      "outputs": [],
      "source": []
    },
    {
      "cell_type": "markdown",
      "metadata": {
        "id": "xWFJS_iQGZpP"
      },
      "source": [
        "## 5. Investigating Our Research Questions  \n",
        "\n",
        "1. **Average Percentage Change Between Maximum and Minimum Wind Speed:**  \n",
        "   - Calculate the average percentage change between the maximum and minimum wind speed within a day and estimate its credible interval.  \n",
        "\n",
        "2. **Determining the Appropriate Polynomial Order:**  \n",
        "   - Evaluate the suitability of including an additional fourth-order polynomial term ($X_{i25}^4$) by comparing it with a model that includes only first to third-order polynomial terms.  \n",
        "   - Use model comparison metrics such as WAIC (Watanabe-Akaike Information Criterion) or LOO (Leave-One-Out) elpd to assess model performance.  \n"
      ]
    },
    {
      "cell_type": "markdown",
      "metadata": {
        "id": "qI3zYJe9dMqU"
      },
      "source": [
        "### 5.1 Average diurnal pattern\n",
        "To answer the first question, we can start by plotting the average diurnal pattern in log scale"
      ]
    },
    {
      "cell_type": "code",
      "execution_count": null,
      "metadata": {
        "id": "X9bqnLFTcHah"
      },
      "outputs": [],
      "source": [
        "# extract posterior draws of the relevant coefficient 'beta_hour'\n",
        "beta_sum = az.summary(model1_fit_az_idata, var_names=['beta_hour'], stat_funcs=custom_stats, extend=False)\n",
        "beta_sum['hour'] = range(0,24)\n",
        "beta_sum.head()"
      ]
    },
    {
      "cell_type": "code",
      "execution_count": null,
      "metadata": {
        "id": "99fnURrQ7kNT"
      },
      "outputs": [],
      "source": [
        "# plot the median and 95% credible bands against hour of the day\n"
      ]
    },
    {
      "cell_type": "markdown",
      "metadata": {
        "id": "gQFwP7updR5L"
      },
      "source": [
        "We calculate the average percentage change and compute its credible interval. Before proceeding, we double-check the lowest and highest wind speed values along with their corresponding times of the day."
      ]
    },
    {
      "cell_type": "code",
      "execution_count": null,
      "metadata": {
        "id": "jJqJwUwvrZ7a"
      },
      "outputs": [],
      "source": [
        "print(beta_sum.iloc[:24,0].max(),beta_sum.iloc[:24,0].idxmax())\n",
        "print(beta_sum.iloc[:24,0].min(), beta_sum.iloc[:24,0].idxmin())"
      ]
    },
    {
      "cell_type": "markdown",
      "metadata": {
        "id": "6NqgR0QoQSWU"
      },
      "source": [
        "We can obtain posterior draws using the `az.extract(idata, varname=[])` function. Since we now know that wind speed is lowest at 5 AM and peaks 12 hours later at 5 PM (17:00), we proceed by extracting the posterior draws of $\\beta_{hour5}$ and $\\beta_{hour17}$"
      ]
    },
    {
      "cell_type": "code",
      "execution_count": null,
      "metadata": {
        "id": "sUuc8hxqqn3J"
      },
      "outputs": [],
      "source": []
    },
    {
      "cell_type": "markdown",
      "metadata": {
        "id": "q8HZK-CVZ6F5"
      },
      "source": [
        "Since wind speed is modeled on a log scale, we take the exponent of each posterior draw of\n",
        "$\\beta_{hour5}$ and $\\beta_{hour17}$\n",
        "to interpret the change in wind speed on the original scale. The percentage change from the lowerst to highest can be computed by\n",
        "$$\n",
        "(\\exp(\\beta_{hour17}-\\beta_{hour5})-1)\\times 100\\%\n",
        "$$"
      ]
    },
    {
      "cell_type": "code",
      "execution_count": null,
      "metadata": {
        "id": "VybnW6_ptFd_"
      },
      "outputs": [],
      "source": []
    },
    {
      "cell_type": "markdown",
      "metadata": {
        "id": "TV5sF1ePpsKk"
      },
      "source": [
        "### 5.2 Increasing the order of polynomial\n",
        "Implement Model 2, where a fourth-order polynomial term is added.\n",
        "\n"
      ]
    },
    {
      "cell_type": "code",
      "execution_count": null,
      "metadata": {
        "id": "Zyfh1qdQpJhQ"
      },
      "outputs": [],
      "source": [
        "# Update data dictionary\n",
        "\n",
        "# Sample from the joint posterior using CmdStanPy\n",
        "\n",
        "# Save the output to a pickle file (optional)\n",
        "\n",
        "# quick check, but we should check the traceplots and pair plots as well!\n"
      ]
    },
    {
      "cell_type": "markdown",
      "metadata": {
        "id": "or1SAzOStCkw"
      },
      "source": [
        "Get summary stats including $\\hat{R}$ and ess"
      ]
    },
    {
      "cell_type": "code",
      "execution_count": null,
      "metadata": {
        "id": "a_9xaW0XqLuf"
      },
      "outputs": [],
      "source": []
    },
    {
      "cell_type": "markdown",
      "metadata": {
        "id": "k3GHz0PEq37z"
      },
      "source": [
        "We will quickly check the fit by plotting the median of the posterior and get waic and loo elpd.  "
      ]
    },
    {
      "cell_type": "code",
      "execution_count": null,
      "metadata": {
        "id": "byq_gURzsmi4"
      },
      "outputs": [],
      "source": [
        "def get_mu_summary(mod):\n",
        "    idata = az.from_cmdstanpy(mod)\n",
        "    mu_sum = az.summary(idata, var_names=['mu'], stat_funcs=custom_stats, extend=False)\n",
        "    exp_mu_sum = az.summary(idata, var_names=['mu'], stat_funcs=custom_stats_original_sclae, extend=False)\n",
        "    mu_sum = pd.concat([mu_sum, exp_mu_sum], axis=1)\n",
        "    # Append the data to the summary\n",
        "    mu_sum['wind_speed'] = df_diurnal['wind_speed'].values\n",
        "    mu_sum['log_wind_speed'] = df_diurnal['log_wind_speed'].values\n",
        "    mu_sum['timestamp'] = df_diurnal['timestamp'].values\n",
        "    # Sort data\n",
        "    mu_sum = mu_sum.sort_values('timestamp')\n",
        "    return mu_sum\n",
        "\n",
        "def extract_elpd_loo(model):\n",
        "    idata = az.from_cmdstanpy(model)\n",
        "    loo = az.loo(idata, pointwise=True)\n",
        "    waic = az.waic(idata, pointwise=True)\n",
        "\n",
        "    df = pd.DataFrame({'elpd_loo': loo['elpd_loo'], 'elpd_waic': waic['elpd_waic']}, index=[0])\n",
        "    return df"
      ]
    },
    {
      "cell_type": "code",
      "execution_count": null,
      "metadata": {
        "id": "mor-XuU4qgEs"
      },
      "outputs": [],
      "source": [
        "mu_sum_model2 = get_mu_summary(model2_fit)"
      ]
    },
    {
      "cell_type": "code",
      "execution_count": null,
      "metadata": {
        "id": "iDiOwkxxsN9O"
      },
      "outputs": [],
      "source": [
        "fig, ax = plt.subplots(figsize=(12,5))\n",
        "\n",
        "ax.plot(mu_sum['timestamp'], mu_sum['wind_speed'], color='black', alpha=0.5,)\n",
        "ax.plot(mu_sum['timestamp'], mu_sum['median_original'], label='P = 3')\n",
        "ax.plot(mu_sum_model2['timestamp'], mu_sum_model2['median_original'], label='P = 4')\n",
        "\n",
        "ax.legend()\n",
        "plt.tight_layout()\n",
        "plt.show()"
      ]
    },
    {
      "cell_type": "markdown",
      "metadata": {
        "id": "-xBfp9avLUku"
      },
      "source": [
        "Is there a noticable  difference? Now we compare two models using LOO elpd and WAIC."
      ]
    },
    {
      "cell_type": "code",
      "execution_count": null,
      "metadata": {
        "id": "UcOePda9eGbt"
      },
      "outputs": [],
      "source": []
    },
    {
      "cell_type": "markdown",
      "metadata": {
        "id": "XYTIbWsgtCkx"
      },
      "source": [
        "Which model do you prefer?"
      ]
    },
    {
      "cell_type": "markdown",
      "metadata": {
        "id": "_MfsPdaCywk4"
      },
      "source": [
        "### 6 Discussion\n",
        "\n",
        "Any limitaions you noticed and possible solutions to them."
      ]
    }
  ],
  "metadata": {
    "colab": {
      "provenance": [],
      "include_colab_link": true
    },
    "kernelspec": {
      "display_name": "Python 3 (ipykernel)",
      "language": "python",
      "name": "python3"
    },
    "language_info": {
      "codemirror_mode": {
        "name": "ipython",
        "version": 3
      },
      "file_extension": ".py",
      "mimetype": "text/x-python",
      "name": "python",
      "nbconvert_exporter": "python",
      "pygments_lexer": "ipython3",
      "version": "3.11.7"
    },
    "widgets": {
      "application/vnd.jupyter.widget-state+json": {}
    }
  },
  "nbformat": 4,
  "nbformat_minor": 0
}